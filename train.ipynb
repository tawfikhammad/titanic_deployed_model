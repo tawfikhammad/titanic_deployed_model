{
 "cells": [
  {
   "cell_type": "code",
   "execution_count": 14,
   "id": "0ead23e9",
   "metadata": {},
   "outputs": [],
   "source": [
    "import pandas as pd\n",
    "from sklearn.preprocessing import LabelEncoder\n",
    "from sklearn.model_selection import train_test_split\n"
   ]
  },
  {
   "cell_type": "code",
   "execution_count": 3,
   "id": "a78c0c21",
   "metadata": {},
   "outputs": [
    {
     "data": {
      "application/vnd.microsoft.datawrangler.viewer.v0+json": {
       "columns": [
        {
         "name": "index",
         "rawType": "int64",
         "type": "integer"
        },
        {
         "name": "PassengerId",
         "rawType": "int64",
         "type": "integer"
        },
        {
         "name": "Survived",
         "rawType": "int64",
         "type": "integer"
        },
        {
         "name": "Pclass",
         "rawType": "int64",
         "type": "integer"
        },
        {
         "name": "Name",
         "rawType": "object",
         "type": "string"
        },
        {
         "name": "Sex",
         "rawType": "object",
         "type": "string"
        },
        {
         "name": "Age",
         "rawType": "float64",
         "type": "float"
        },
        {
         "name": "SibSp",
         "rawType": "int64",
         "type": "integer"
        },
        {
         "name": "Parch",
         "rawType": "int64",
         "type": "integer"
        },
        {
         "name": "Ticket",
         "rawType": "object",
         "type": "string"
        },
        {
         "name": "Fare",
         "rawType": "float64",
         "type": "float"
        },
        {
         "name": "Cabin",
         "rawType": "object",
         "type": "unknown"
        },
        {
         "name": "Embarked",
         "rawType": "object",
         "type": "unknown"
        }
       ],
       "ref": "406fe7fe-cde4-46d0-b57f-a1fed01cbfcb",
       "rows": [
        [
         "0",
         "1",
         "0",
         "3",
         "Braund, Mr. Owen Harris",
         "male",
         "22.0",
         "1",
         "0",
         "A/5 21171",
         "7.25",
         null,
         "S"
        ],
        [
         "1",
         "2",
         "1",
         "1",
         "Cumings, Mrs. John Bradley (Florence Briggs Thayer)",
         "female",
         "38.0",
         "1",
         "0",
         "PC 17599",
         "71.2833",
         "C85",
         "C"
        ],
        [
         "2",
         "3",
         "1",
         "3",
         "Heikkinen, Miss. Laina",
         "female",
         "26.0",
         "0",
         "0",
         "STON/O2. 3101282",
         "7.925",
         null,
         "S"
        ],
        [
         "3",
         "4",
         "1",
         "1",
         "Futrelle, Mrs. Jacques Heath (Lily May Peel)",
         "female",
         "35.0",
         "1",
         "0",
         "113803",
         "53.1",
         "C123",
         "S"
        ],
        [
         "4",
         "5",
         "0",
         "3",
         "Allen, Mr. William Henry",
         "male",
         "35.0",
         "0",
         "0",
         "373450",
         "8.05",
         null,
         "S"
        ],
        [
         "5",
         "6",
         "0",
         "3",
         "Moran, Mr. James",
         "male",
         null,
         "0",
         "0",
         "330877",
         "8.4583",
         null,
         "Q"
        ],
        [
         "6",
         "7",
         "0",
         "1",
         "McCarthy, Mr. Timothy J",
         "male",
         "54.0",
         "0",
         "0",
         "17463",
         "51.8625",
         "E46",
         "S"
        ],
        [
         "7",
         "8",
         "0",
         "3",
         "Palsson, Master. Gosta Leonard",
         "male",
         "2.0",
         "3",
         "1",
         "349909",
         "21.075",
         null,
         "S"
        ],
        [
         "8",
         "9",
         "1",
         "3",
         "Johnson, Mrs. Oscar W (Elisabeth Vilhelmina Berg)",
         "female",
         "27.0",
         "0",
         "2",
         "347742",
         "11.1333",
         null,
         "S"
        ],
        [
         "9",
         "10",
         "1",
         "2",
         "Nasser, Mrs. Nicholas (Adele Achem)",
         "female",
         "14.0",
         "1",
         "0",
         "237736",
         "30.0708",
         null,
         "C"
        ],
        [
         "10",
         "11",
         "1",
         "3",
         "Sandstrom, Miss. Marguerite Rut",
         "female",
         "4.0",
         "1",
         "1",
         "PP 9549",
         "16.7",
         "G6",
         "S"
        ],
        [
         "11",
         "12",
         "1",
         "1",
         "Bonnell, Miss. Elizabeth",
         "female",
         "58.0",
         "0",
         "0",
         "113783",
         "26.55",
         "C103",
         "S"
        ],
        [
         "12",
         "13",
         "0",
         "3",
         "Saundercock, Mr. William Henry",
         "male",
         "20.0",
         "0",
         "0",
         "A/5. 2151",
         "8.05",
         null,
         "S"
        ],
        [
         "13",
         "14",
         "0",
         "3",
         "Andersson, Mr. Anders Johan",
         "male",
         "39.0",
         "1",
         "5",
         "347082",
         "31.275",
         null,
         "S"
        ],
        [
         "14",
         "15",
         "0",
         "3",
         "Vestrom, Miss. Hulda Amanda Adolfina",
         "female",
         "14.0",
         "0",
         "0",
         "350406",
         "7.8542",
         null,
         "S"
        ],
        [
         "15",
         "16",
         "1",
         "2",
         "Hewlett, Mrs. (Mary D Kingcome) ",
         "female",
         "55.0",
         "0",
         "0",
         "248706",
         "16.0",
         null,
         "S"
        ],
        [
         "16",
         "17",
         "0",
         "3",
         "Rice, Master. Eugene",
         "male",
         "2.0",
         "4",
         "1",
         "382652",
         "29.125",
         null,
         "Q"
        ],
        [
         "17",
         "18",
         "1",
         "2",
         "Williams, Mr. Charles Eugene",
         "male",
         null,
         "0",
         "0",
         "244373",
         "13.0",
         null,
         "S"
        ],
        [
         "18",
         "19",
         "0",
         "3",
         "Vander Planke, Mrs. Julius (Emelia Maria Vandemoortele)",
         "female",
         "31.0",
         "1",
         "0",
         "345763",
         "18.0",
         null,
         "S"
        ],
        [
         "19",
         "20",
         "1",
         "3",
         "Masselmani, Mrs. Fatima",
         "female",
         null,
         "0",
         "0",
         "2649",
         "7.225",
         null,
         "C"
        ],
        [
         "20",
         "21",
         "0",
         "2",
         "Fynney, Mr. Joseph J",
         "male",
         "35.0",
         "0",
         "0",
         "239865",
         "26.0",
         null,
         "S"
        ],
        [
         "21",
         "22",
         "1",
         "2",
         "Beesley, Mr. Lawrence",
         "male",
         "34.0",
         "0",
         "0",
         "248698",
         "13.0",
         "D56",
         "S"
        ],
        [
         "22",
         "23",
         "1",
         "3",
         "McGowan, Miss. Anna \"Annie\"",
         "female",
         "15.0",
         "0",
         "0",
         "330923",
         "8.0292",
         null,
         "Q"
        ],
        [
         "23",
         "24",
         "1",
         "1",
         "Sloper, Mr. William Thompson",
         "male",
         "28.0",
         "0",
         "0",
         "113788",
         "35.5",
         "A6",
         "S"
        ],
        [
         "24",
         "25",
         "0",
         "3",
         "Palsson, Miss. Torborg Danira",
         "female",
         "8.0",
         "3",
         "1",
         "349909",
         "21.075",
         null,
         "S"
        ],
        [
         "25",
         "26",
         "1",
         "3",
         "Asplund, Mrs. Carl Oscar (Selma Augusta Emilia Johansson)",
         "female",
         "38.0",
         "1",
         "5",
         "347077",
         "31.3875",
         null,
         "S"
        ],
        [
         "26",
         "27",
         "0",
         "3",
         "Emir, Mr. Farred Chehab",
         "male",
         null,
         "0",
         "0",
         "2631",
         "7.225",
         null,
         "C"
        ],
        [
         "27",
         "28",
         "0",
         "1",
         "Fortune, Mr. Charles Alexander",
         "male",
         "19.0",
         "3",
         "2",
         "19950",
         "263.0",
         "C23 C25 C27",
         "S"
        ],
        [
         "28",
         "29",
         "1",
         "3",
         "O'Dwyer, Miss. Ellen \"Nellie\"",
         "female",
         null,
         "0",
         "0",
         "330959",
         "7.8792",
         null,
         "Q"
        ],
        [
         "29",
         "30",
         "0",
         "3",
         "Todoroff, Mr. Lalio",
         "male",
         null,
         "0",
         "0",
         "349216",
         "7.8958",
         null,
         "S"
        ],
        [
         "30",
         "31",
         "0",
         "1",
         "Uruchurtu, Don. Manuel E",
         "male",
         "40.0",
         "0",
         "0",
         "PC 17601",
         "27.7208",
         null,
         "C"
        ],
        [
         "31",
         "32",
         "1",
         "1",
         "Spencer, Mrs. William Augustus (Marie Eugenie)",
         "female",
         null,
         "1",
         "0",
         "PC 17569",
         "146.5208",
         "B78",
         "C"
        ],
        [
         "32",
         "33",
         "1",
         "3",
         "Glynn, Miss. Mary Agatha",
         "female",
         null,
         "0",
         "0",
         "335677",
         "7.75",
         null,
         "Q"
        ],
        [
         "33",
         "34",
         "0",
         "2",
         "Wheadon, Mr. Edward H",
         "male",
         "66.0",
         "0",
         "0",
         "C.A. 24579",
         "10.5",
         null,
         "S"
        ],
        [
         "34",
         "35",
         "0",
         "1",
         "Meyer, Mr. Edgar Joseph",
         "male",
         "28.0",
         "1",
         "0",
         "PC 17604",
         "82.1708",
         null,
         "C"
        ],
        [
         "35",
         "36",
         "0",
         "1",
         "Holverson, Mr. Alexander Oskar",
         "male",
         "42.0",
         "1",
         "0",
         "113789",
         "52.0",
         null,
         "S"
        ],
        [
         "36",
         "37",
         "1",
         "3",
         "Mamee, Mr. Hanna",
         "male",
         null,
         "0",
         "0",
         "2677",
         "7.2292",
         null,
         "C"
        ],
        [
         "37",
         "38",
         "0",
         "3",
         "Cann, Mr. Ernest Charles",
         "male",
         "21.0",
         "0",
         "0",
         "A./5. 2152",
         "8.05",
         null,
         "S"
        ],
        [
         "38",
         "39",
         "0",
         "3",
         "Vander Planke, Miss. Augusta Maria",
         "female",
         "18.0",
         "2",
         "0",
         "345764",
         "18.0",
         null,
         "S"
        ],
        [
         "39",
         "40",
         "1",
         "3",
         "Nicola-Yarred, Miss. Jamila",
         "female",
         "14.0",
         "1",
         "0",
         "2651",
         "11.2417",
         null,
         "C"
        ],
        [
         "40",
         "41",
         "0",
         "3",
         "Ahlin, Mrs. Johan (Johanna Persdotter Larsson)",
         "female",
         "40.0",
         "1",
         "0",
         "7546",
         "9.475",
         null,
         "S"
        ],
        [
         "41",
         "42",
         "0",
         "2",
         "Turpin, Mrs. William John Robert (Dorothy Ann Wonnacott)",
         "female",
         "27.0",
         "1",
         "0",
         "11668",
         "21.0",
         null,
         "S"
        ],
        [
         "42",
         "43",
         "0",
         "3",
         "Kraeff, Mr. Theodor",
         "male",
         null,
         "0",
         "0",
         "349253",
         "7.8958",
         null,
         "C"
        ],
        [
         "43",
         "44",
         "1",
         "2",
         "Laroche, Miss. Simonne Marie Anne Andree",
         "female",
         "3.0",
         "1",
         "2",
         "SC/Paris 2123",
         "41.5792",
         null,
         "C"
        ],
        [
         "44",
         "45",
         "1",
         "3",
         "Devaney, Miss. Margaret Delia",
         "female",
         "19.0",
         "0",
         "0",
         "330958",
         "7.8792",
         null,
         "Q"
        ],
        [
         "45",
         "46",
         "0",
         "3",
         "Rogers, Mr. William John",
         "male",
         null,
         "0",
         "0",
         "S.C./A.4. 23567",
         "8.05",
         null,
         "S"
        ],
        [
         "46",
         "47",
         "0",
         "3",
         "Lennon, Mr. Denis",
         "male",
         null,
         "1",
         "0",
         "370371",
         "15.5",
         null,
         "Q"
        ],
        [
         "47",
         "48",
         "1",
         "3",
         "O'Driscoll, Miss. Bridget",
         "female",
         null,
         "0",
         "0",
         "14311",
         "7.75",
         null,
         "Q"
        ],
        [
         "48",
         "49",
         "0",
         "3",
         "Samaan, Mr. Youssef",
         "male",
         null,
         "2",
         "0",
         "2662",
         "21.6792",
         null,
         "C"
        ],
        [
         "49",
         "50",
         "0",
         "3",
         "Arnold-Franchi, Mrs. Josef (Josefine Franchi)",
         "female",
         "18.0",
         "1",
         "0",
         "349237",
         "17.8",
         null,
         "S"
        ]
       ],
       "shape": {
        "columns": 12,
        "rows": 891
       }
      },
      "text/html": [
       "<div>\n",
       "<style scoped>\n",
       "    .dataframe tbody tr th:only-of-type {\n",
       "        vertical-align: middle;\n",
       "    }\n",
       "\n",
       "    .dataframe tbody tr th {\n",
       "        vertical-align: top;\n",
       "    }\n",
       "\n",
       "    .dataframe thead th {\n",
       "        text-align: right;\n",
       "    }\n",
       "</style>\n",
       "<table border=\"1\" class=\"dataframe\">\n",
       "  <thead>\n",
       "    <tr style=\"text-align: right;\">\n",
       "      <th></th>\n",
       "      <th>PassengerId</th>\n",
       "      <th>Survived</th>\n",
       "      <th>Pclass</th>\n",
       "      <th>Name</th>\n",
       "      <th>Sex</th>\n",
       "      <th>Age</th>\n",
       "      <th>SibSp</th>\n",
       "      <th>Parch</th>\n",
       "      <th>Ticket</th>\n",
       "      <th>Fare</th>\n",
       "      <th>Cabin</th>\n",
       "      <th>Embarked</th>\n",
       "    </tr>\n",
       "  </thead>\n",
       "  <tbody>\n",
       "    <tr>\n",
       "      <th>0</th>\n",
       "      <td>1</td>\n",
       "      <td>0</td>\n",
       "      <td>3</td>\n",
       "      <td>Braund, Mr. Owen Harris</td>\n",
       "      <td>male</td>\n",
       "      <td>22.0</td>\n",
       "      <td>1</td>\n",
       "      <td>0</td>\n",
       "      <td>A/5 21171</td>\n",
       "      <td>7.2500</td>\n",
       "      <td>NaN</td>\n",
       "      <td>S</td>\n",
       "    </tr>\n",
       "    <tr>\n",
       "      <th>1</th>\n",
       "      <td>2</td>\n",
       "      <td>1</td>\n",
       "      <td>1</td>\n",
       "      <td>Cumings, Mrs. John Bradley (Florence Briggs Th...</td>\n",
       "      <td>female</td>\n",
       "      <td>38.0</td>\n",
       "      <td>1</td>\n",
       "      <td>0</td>\n",
       "      <td>PC 17599</td>\n",
       "      <td>71.2833</td>\n",
       "      <td>C85</td>\n",
       "      <td>C</td>\n",
       "    </tr>\n",
       "    <tr>\n",
       "      <th>2</th>\n",
       "      <td>3</td>\n",
       "      <td>1</td>\n",
       "      <td>3</td>\n",
       "      <td>Heikkinen, Miss. Laina</td>\n",
       "      <td>female</td>\n",
       "      <td>26.0</td>\n",
       "      <td>0</td>\n",
       "      <td>0</td>\n",
       "      <td>STON/O2. 3101282</td>\n",
       "      <td>7.9250</td>\n",
       "      <td>NaN</td>\n",
       "      <td>S</td>\n",
       "    </tr>\n",
       "    <tr>\n",
       "      <th>3</th>\n",
       "      <td>4</td>\n",
       "      <td>1</td>\n",
       "      <td>1</td>\n",
       "      <td>Futrelle, Mrs. Jacques Heath (Lily May Peel)</td>\n",
       "      <td>female</td>\n",
       "      <td>35.0</td>\n",
       "      <td>1</td>\n",
       "      <td>0</td>\n",
       "      <td>113803</td>\n",
       "      <td>53.1000</td>\n",
       "      <td>C123</td>\n",
       "      <td>S</td>\n",
       "    </tr>\n",
       "    <tr>\n",
       "      <th>4</th>\n",
       "      <td>5</td>\n",
       "      <td>0</td>\n",
       "      <td>3</td>\n",
       "      <td>Allen, Mr. William Henry</td>\n",
       "      <td>male</td>\n",
       "      <td>35.0</td>\n",
       "      <td>0</td>\n",
       "      <td>0</td>\n",
       "      <td>373450</td>\n",
       "      <td>8.0500</td>\n",
       "      <td>NaN</td>\n",
       "      <td>S</td>\n",
       "    </tr>\n",
       "    <tr>\n",
       "      <th>...</th>\n",
       "      <td>...</td>\n",
       "      <td>...</td>\n",
       "      <td>...</td>\n",
       "      <td>...</td>\n",
       "      <td>...</td>\n",
       "      <td>...</td>\n",
       "      <td>...</td>\n",
       "      <td>...</td>\n",
       "      <td>...</td>\n",
       "      <td>...</td>\n",
       "      <td>...</td>\n",
       "      <td>...</td>\n",
       "    </tr>\n",
       "    <tr>\n",
       "      <th>886</th>\n",
       "      <td>887</td>\n",
       "      <td>0</td>\n",
       "      <td>2</td>\n",
       "      <td>Montvila, Rev. Juozas</td>\n",
       "      <td>male</td>\n",
       "      <td>27.0</td>\n",
       "      <td>0</td>\n",
       "      <td>0</td>\n",
       "      <td>211536</td>\n",
       "      <td>13.0000</td>\n",
       "      <td>NaN</td>\n",
       "      <td>S</td>\n",
       "    </tr>\n",
       "    <tr>\n",
       "      <th>887</th>\n",
       "      <td>888</td>\n",
       "      <td>1</td>\n",
       "      <td>1</td>\n",
       "      <td>Graham, Miss. Margaret Edith</td>\n",
       "      <td>female</td>\n",
       "      <td>19.0</td>\n",
       "      <td>0</td>\n",
       "      <td>0</td>\n",
       "      <td>112053</td>\n",
       "      <td>30.0000</td>\n",
       "      <td>B42</td>\n",
       "      <td>S</td>\n",
       "    </tr>\n",
       "    <tr>\n",
       "      <th>888</th>\n",
       "      <td>889</td>\n",
       "      <td>0</td>\n",
       "      <td>3</td>\n",
       "      <td>Johnston, Miss. Catherine Helen \"Carrie\"</td>\n",
       "      <td>female</td>\n",
       "      <td>NaN</td>\n",
       "      <td>1</td>\n",
       "      <td>2</td>\n",
       "      <td>W./C. 6607</td>\n",
       "      <td>23.4500</td>\n",
       "      <td>NaN</td>\n",
       "      <td>S</td>\n",
       "    </tr>\n",
       "    <tr>\n",
       "      <th>889</th>\n",
       "      <td>890</td>\n",
       "      <td>1</td>\n",
       "      <td>1</td>\n",
       "      <td>Behr, Mr. Karl Howell</td>\n",
       "      <td>male</td>\n",
       "      <td>26.0</td>\n",
       "      <td>0</td>\n",
       "      <td>0</td>\n",
       "      <td>111369</td>\n",
       "      <td>30.0000</td>\n",
       "      <td>C148</td>\n",
       "      <td>C</td>\n",
       "    </tr>\n",
       "    <tr>\n",
       "      <th>890</th>\n",
       "      <td>891</td>\n",
       "      <td>0</td>\n",
       "      <td>3</td>\n",
       "      <td>Dooley, Mr. Patrick</td>\n",
       "      <td>male</td>\n",
       "      <td>32.0</td>\n",
       "      <td>0</td>\n",
       "      <td>0</td>\n",
       "      <td>370376</td>\n",
       "      <td>7.7500</td>\n",
       "      <td>NaN</td>\n",
       "      <td>Q</td>\n",
       "    </tr>\n",
       "  </tbody>\n",
       "</table>\n",
       "<p>891 rows × 12 columns</p>\n",
       "</div>"
      ],
      "text/plain": [
       "     PassengerId  Survived  Pclass  \\\n",
       "0              1         0       3   \n",
       "1              2         1       1   \n",
       "2              3         1       3   \n",
       "3              4         1       1   \n",
       "4              5         0       3   \n",
       "..           ...       ...     ...   \n",
       "886          887         0       2   \n",
       "887          888         1       1   \n",
       "888          889         0       3   \n",
       "889          890         1       1   \n",
       "890          891         0       3   \n",
       "\n",
       "                                                  Name     Sex   Age  SibSp  \\\n",
       "0                              Braund, Mr. Owen Harris    male  22.0      1   \n",
       "1    Cumings, Mrs. John Bradley (Florence Briggs Th...  female  38.0      1   \n",
       "2                               Heikkinen, Miss. Laina  female  26.0      0   \n",
       "3         Futrelle, Mrs. Jacques Heath (Lily May Peel)  female  35.0      1   \n",
       "4                             Allen, Mr. William Henry    male  35.0      0   \n",
       "..                                                 ...     ...   ...    ...   \n",
       "886                              Montvila, Rev. Juozas    male  27.0      0   \n",
       "887                       Graham, Miss. Margaret Edith  female  19.0      0   \n",
       "888           Johnston, Miss. Catherine Helen \"Carrie\"  female   NaN      1   \n",
       "889                              Behr, Mr. Karl Howell    male  26.0      0   \n",
       "890                                Dooley, Mr. Patrick    male  32.0      0   \n",
       "\n",
       "     Parch            Ticket     Fare Cabin Embarked  \n",
       "0        0         A/5 21171   7.2500   NaN        S  \n",
       "1        0          PC 17599  71.2833   C85        C  \n",
       "2        0  STON/O2. 3101282   7.9250   NaN        S  \n",
       "3        0            113803  53.1000  C123        S  \n",
       "4        0            373450   8.0500   NaN        S  \n",
       "..     ...               ...      ...   ...      ...  \n",
       "886      0            211536  13.0000   NaN        S  \n",
       "887      0            112053  30.0000   B42        S  \n",
       "888      2        W./C. 6607  23.4500   NaN        S  \n",
       "889      0            111369  30.0000  C148        C  \n",
       "890      0            370376   7.7500   NaN        Q  \n",
       "\n",
       "[891 rows x 12 columns]"
      ]
     },
     "execution_count": 3,
     "metadata": {},
     "output_type": "execute_result"
    }
   ],
   "source": [
    "df = pd.read_csv('datasets\\Titanic-Dataset.csv')\n",
    "df"
   ]
  },
  {
   "cell_type": "code",
   "execution_count": 4,
   "id": "97650415",
   "metadata": {},
   "outputs": [
    {
     "data": {
      "text/plain": [
       "Index(['PassengerId', 'Survived', 'Pclass', 'Name', 'Sex', 'Age', 'SibSp',\n",
       "       'Parch', 'Ticket', 'Fare', 'Cabin', 'Embarked'],\n",
       "      dtype='object')"
      ]
     },
     "execution_count": 4,
     "metadata": {},
     "output_type": "execute_result"
    }
   ],
   "source": [
    "df.columns"
   ]
  },
  {
   "cell_type": "code",
   "execution_count": 5,
   "id": "c9db34ac",
   "metadata": {},
   "outputs": [
    {
     "data": {
      "application/vnd.microsoft.datawrangler.viewer.v0+json": {
       "columns": [
        {
         "name": "index",
         "rawType": "int64",
         "type": "integer"
        },
        {
         "name": "Pclass",
         "rawType": "int64",
         "type": "integer"
        },
        {
         "name": "Sex",
         "rawType": "object",
         "type": "string"
        },
        {
         "name": "Age",
         "rawType": "float64",
         "type": "float"
        },
        {
         "name": "SibSp",
         "rawType": "int64",
         "type": "integer"
        },
        {
         "name": "Fare",
         "rawType": "float64",
         "type": "float"
        },
        {
         "name": "Embarked",
         "rawType": "object",
         "type": "string"
        },
        {
         "name": "Survived",
         "rawType": "int64",
         "type": "integer"
        }
       ],
       "ref": "6f029ee8-f311-4704-820b-2fa4722ea48b",
       "rows": [
        [
         "0",
         "3",
         "male",
         "22.0",
         "1",
         "7.25",
         "S",
         "0"
        ],
        [
         "1",
         "1",
         "female",
         "38.0",
         "1",
         "71.2833",
         "C",
         "1"
        ],
        [
         "2",
         "3",
         "female",
         "26.0",
         "0",
         "7.925",
         "S",
         "1"
        ],
        [
         "3",
         "1",
         "female",
         "35.0",
         "1",
         "53.1",
         "S",
         "1"
        ],
        [
         "4",
         "3",
         "male",
         "35.0",
         "0",
         "8.05",
         "S",
         "0"
        ]
       ],
       "shape": {
        "columns": 7,
        "rows": 5
       }
      },
      "text/html": [
       "<div>\n",
       "<style scoped>\n",
       "    .dataframe tbody tr th:only-of-type {\n",
       "        vertical-align: middle;\n",
       "    }\n",
       "\n",
       "    .dataframe tbody tr th {\n",
       "        vertical-align: top;\n",
       "    }\n",
       "\n",
       "    .dataframe thead th {\n",
       "        text-align: right;\n",
       "    }\n",
       "</style>\n",
       "<table border=\"1\" class=\"dataframe\">\n",
       "  <thead>\n",
       "    <tr style=\"text-align: right;\">\n",
       "      <th></th>\n",
       "      <th>Pclass</th>\n",
       "      <th>Sex</th>\n",
       "      <th>Age</th>\n",
       "      <th>SibSp</th>\n",
       "      <th>Fare</th>\n",
       "      <th>Embarked</th>\n",
       "      <th>Survived</th>\n",
       "    </tr>\n",
       "  </thead>\n",
       "  <tbody>\n",
       "    <tr>\n",
       "      <th>0</th>\n",
       "      <td>3</td>\n",
       "      <td>male</td>\n",
       "      <td>22.0</td>\n",
       "      <td>1</td>\n",
       "      <td>7.2500</td>\n",
       "      <td>S</td>\n",
       "      <td>0</td>\n",
       "    </tr>\n",
       "    <tr>\n",
       "      <th>1</th>\n",
       "      <td>1</td>\n",
       "      <td>female</td>\n",
       "      <td>38.0</td>\n",
       "      <td>1</td>\n",
       "      <td>71.2833</td>\n",
       "      <td>C</td>\n",
       "      <td>1</td>\n",
       "    </tr>\n",
       "    <tr>\n",
       "      <th>2</th>\n",
       "      <td>3</td>\n",
       "      <td>female</td>\n",
       "      <td>26.0</td>\n",
       "      <td>0</td>\n",
       "      <td>7.9250</td>\n",
       "      <td>S</td>\n",
       "      <td>1</td>\n",
       "    </tr>\n",
       "    <tr>\n",
       "      <th>3</th>\n",
       "      <td>1</td>\n",
       "      <td>female</td>\n",
       "      <td>35.0</td>\n",
       "      <td>1</td>\n",
       "      <td>53.1000</td>\n",
       "      <td>S</td>\n",
       "      <td>1</td>\n",
       "    </tr>\n",
       "    <tr>\n",
       "      <th>4</th>\n",
       "      <td>3</td>\n",
       "      <td>male</td>\n",
       "      <td>35.0</td>\n",
       "      <td>0</td>\n",
       "      <td>8.0500</td>\n",
       "      <td>S</td>\n",
       "      <td>0</td>\n",
       "    </tr>\n",
       "  </tbody>\n",
       "</table>\n",
       "</div>"
      ],
      "text/plain": [
       "   Pclass     Sex   Age  SibSp     Fare Embarked  Survived\n",
       "0       3    male  22.0      1   7.2500        S         0\n",
       "1       1  female  38.0      1  71.2833        C         1\n",
       "2       3  female  26.0      0   7.9250        S         1\n",
       "3       1  female  35.0      1  53.1000        S         1\n",
       "4       3    male  35.0      0   8.0500        S         0"
      ]
     },
     "execution_count": 5,
     "metadata": {},
     "output_type": "execute_result"
    }
   ],
   "source": [
    "df = df [['Pclass', 'Sex', 'Age', 'SibSp', 'Fare', 'Embarked', 'Survived']]\n",
    "df.head()"
   ]
  },
  {
   "cell_type": "code",
   "execution_count": 8,
   "id": "3e1811f5",
   "metadata": {},
   "outputs": [
    {
     "data": {
      "application/vnd.microsoft.datawrangler.viewer.v0+json": {
       "columns": [
        {
         "name": "index",
         "rawType": "object",
         "type": "string"
        },
        {
         "name": "0",
         "rawType": "int64",
         "type": "integer"
        }
       ],
       "ref": "da1d67e7-a7b5-4934-aba0-7b3ccb041efb",
       "rows": [
        [
         "Pclass",
         "0"
        ],
        [
         "Sex",
         "0"
        ],
        [
         "Age",
         "0"
        ],
        [
         "SibSp",
         "0"
        ],
        [
         "Fare",
         "0"
        ],
        [
         "Embarked",
         "0"
        ],
        [
         "Survived",
         "0"
        ]
       ],
       "shape": {
        "columns": 1,
        "rows": 7
       }
      },
      "text/plain": [
       "Pclass      0\n",
       "Sex         0\n",
       "Age         0\n",
       "SibSp       0\n",
       "Fare        0\n",
       "Embarked    0\n",
       "Survived    0\n",
       "dtype: int64"
      ]
     },
     "execution_count": 8,
     "metadata": {},
     "output_type": "execute_result"
    }
   ],
   "source": [
    "df.isna().sum()"
   ]
  },
  {
   "cell_type": "code",
   "execution_count": 7,
   "id": "f2073d99",
   "metadata": {},
   "outputs": [
    {
     "name": "stderr",
     "output_type": "stream",
     "text": [
      "C:\\Users\\tawfi\\AppData\\Local\\Temp\\ipykernel_50500\\1124485253.py:1: SettingWithCopyWarning: \n",
      "A value is trying to be set on a copy of a slice from a DataFrame\n",
      "\n",
      "See the caveats in the documentation: https://pandas.pydata.org/pandas-docs/stable/user_guide/indexing.html#returning-a-view-versus-a-copy\n",
      "  df.dropna(inplace= True)\n"
     ]
    }
   ],
   "source": [
    "df.dropna(inplace= True)"
   ]
  },
  {
   "cell_type": "code",
   "execution_count": 9,
   "id": "5d816a0c",
   "metadata": {},
   "outputs": [
    {
     "data": {
      "application/vnd.microsoft.datawrangler.viewer.v0+json": {
       "columns": [
        {
         "name": "index",
         "rawType": "object",
         "type": "string"
        },
        {
         "name": "0",
         "rawType": "object",
         "type": "unknown"
        }
       ],
       "ref": "ca2a23c8-3e07-4932-ae19-1ea900ebb596",
       "rows": [
        [
         "Pclass",
         "int64"
        ],
        [
         "Sex",
         "object"
        ],
        [
         "Age",
         "float64"
        ],
        [
         "SibSp",
         "int64"
        ],
        [
         "Fare",
         "float64"
        ],
        [
         "Embarked",
         "object"
        ],
        [
         "Survived",
         "int64"
        ]
       ],
       "shape": {
        "columns": 1,
        "rows": 7
       }
      },
      "text/plain": [
       "Pclass        int64\n",
       "Sex          object\n",
       "Age         float64\n",
       "SibSp         int64\n",
       "Fare        float64\n",
       "Embarked     object\n",
       "Survived      int64\n",
       "dtype: object"
      ]
     },
     "execution_count": 9,
     "metadata": {},
     "output_type": "execute_result"
    }
   ],
   "source": [
    "df.dtypes"
   ]
  },
  {
   "cell_type": "code",
   "execution_count": 12,
   "id": "680d8fc1",
   "metadata": {},
   "outputs": [
    {
     "name": "stderr",
     "output_type": "stream",
     "text": [
      "C:\\Users\\tawfi\\AppData\\Local\\Temp\\ipykernel_50500\\3795814451.py:1: SettingWithCopyWarning: \n",
      "A value is trying to be set on a copy of a slice from a DataFrame.\n",
      "Try using .loc[row_indexer,col_indexer] = value instead\n",
      "\n",
      "See the caveats in the documentation: https://pandas.pydata.org/pandas-docs/stable/user_guide/indexing.html#returning-a-view-versus-a-copy\n",
      "  df['Sex'] = LabelEncoder().fit_transform(df['Sex'])\n",
      "C:\\Users\\tawfi\\AppData\\Local\\Temp\\ipykernel_50500\\3795814451.py:2: SettingWithCopyWarning: \n",
      "A value is trying to be set on a copy of a slice from a DataFrame.\n",
      "Try using .loc[row_indexer,col_indexer] = value instead\n",
      "\n",
      "See the caveats in the documentation: https://pandas.pydata.org/pandas-docs/stable/user_guide/indexing.html#returning-a-view-versus-a-copy\n",
      "  df['Embarked'] = LabelEncoder().fit_transform(df['Embarked'])\n"
     ]
    }
   ],
   "source": [
    "df['Sex'] = LabelEncoder().fit_transform(df['Sex'])\n",
    "df['Embarked'] = LabelEncoder().fit_transform(df['Embarked'])"
   ]
  },
  {
   "cell_type": "code",
   "execution_count": 15,
   "id": "00f41d9e",
   "metadata": {},
   "outputs": [],
   "source": [
    "y = df['Survived']\n",
    "X = df.drop('Survived', axis=1)\n",
    "\n",
    "X_train, X_test, y_train, y_test = train_test_split(X, y, test_size=0.2, random_state=42)"
   ]
  },
  {
   "cell_type": "code",
   "execution_count": 17,
   "id": "728d9ef9",
   "metadata": {},
   "outputs": [
    {
     "data": {
      "application/vnd.microsoft.datawrangler.viewer.v0+json": {
       "columns": [
        {
         "name": "index",
         "rawType": "int64",
         "type": "integer"
        },
        {
         "name": "Pclass",
         "rawType": "int64",
         "type": "integer"
        },
        {
         "name": "Sex",
         "rawType": "int64",
         "type": "integer"
        },
        {
         "name": "Age",
         "rawType": "float64",
         "type": "float"
        },
        {
         "name": "SibSp",
         "rawType": "int64",
         "type": "integer"
        },
        {
         "name": "Fare",
         "rawType": "float64",
         "type": "float"
        },
        {
         "name": "Embarked",
         "rawType": "int64",
         "type": "integer"
        }
       ],
       "ref": "bd3ee86b-9b2b-43d4-9991-969adf47cf63",
       "rows": [
        [
         "608",
         "2",
         "0",
         "22.0",
         "1",
         "41.5792",
         "0"
        ]
       ],
       "shape": {
        "columns": 6,
        "rows": 1
       }
      },
      "text/html": [
       "<div>\n",
       "<style scoped>\n",
       "    .dataframe tbody tr th:only-of-type {\n",
       "        vertical-align: middle;\n",
       "    }\n",
       "\n",
       "    .dataframe tbody tr th {\n",
       "        vertical-align: top;\n",
       "    }\n",
       "\n",
       "    .dataframe thead th {\n",
       "        text-align: right;\n",
       "    }\n",
       "</style>\n",
       "<table border=\"1\" class=\"dataframe\">\n",
       "  <thead>\n",
       "    <tr style=\"text-align: right;\">\n",
       "      <th></th>\n",
       "      <th>Pclass</th>\n",
       "      <th>Sex</th>\n",
       "      <th>Age</th>\n",
       "      <th>SibSp</th>\n",
       "      <th>Fare</th>\n",
       "      <th>Embarked</th>\n",
       "    </tr>\n",
       "  </thead>\n",
       "  <tbody>\n",
       "    <tr>\n",
       "      <th>608</th>\n",
       "      <td>2</td>\n",
       "      <td>0</td>\n",
       "      <td>22.0</td>\n",
       "      <td>1</td>\n",
       "      <td>41.5792</td>\n",
       "      <td>0</td>\n",
       "    </tr>\n",
       "  </tbody>\n",
       "</table>\n",
       "</div>"
      ],
      "text/plain": [
       "     Pclass  Sex   Age  SibSp     Fare  Embarked\n",
       "608       2    0  22.0      1  41.5792         0"
      ]
     },
     "execution_count": 17,
     "metadata": {},
     "output_type": "execute_result"
    }
   ],
   "source": [
    "X_train.sample(1)"
   ]
  },
  {
   "cell_type": "code",
   "execution_count": 19,
   "id": "8bde690d",
   "metadata": {},
   "outputs": [],
   "source": [
    "import torch\n",
    "from torch.utils.data import Dataset, DataLoader\n",
    "\n",
    "class TitanicDataset(Dataset):\n",
    "    def __init__(self, x, y):\n",
    "        self.X = torch.tensor(x.values, dtype=torch.float32)\n",
    "        self.y = torch.tensor(y.values, dtype=torch.float32)\n",
    "\n",
    "    def __len__(self):\n",
    "        return len(self.y)\n",
    "\n",
    "    def __getitem__(self, idx):\n",
    "        return self.X[idx], self.y[idx]\n",
    "\n",
    "train_ds = TitanicDataset(X_train, y_train)\n",
    "train_loader = DataLoader(train_ds, batch_size=16, shuffle=True)\n"
   ]
  },
  {
   "cell_type": "code",
   "execution_count": 20,
   "id": "a9ee7dc4",
   "metadata": {},
   "outputs": [],
   "source": [
    "class Model(torch.nn.Module):\n",
    "    def __init__(self):\n",
    "        super(Model, self).__init__()\n",
    "        self.net = torch.nn.Sequential(\n",
    "            torch.nn.Linear(X_train.shape[1], 32),\n",
    "            torch.nn.ReLU(),\n",
    "            torch.nn.Linear(32, 16),\n",
    "            torch.nn.ReLU(),\n",
    "            torch.nn.Linear(16, 1),\n",
    "            torch.nn.Sigmoid()\n",
    "        )\n",
    "\n",
    "    def forward(self, x):\n",
    "        return self.net(x)\n",
    "    \n",
    "model = Model()\n",
    "criterion = torch.nn.BCELoss()\n",
    "optimizer = torch.optim.Adam(model.parameters(), lr=0.001)"
   ]
  },
  {
   "cell_type": "code",
   "execution_count": 21,
   "id": "52be6a6e",
   "metadata": {},
   "outputs": [
    {
     "name": "stdout",
     "output_type": "stream",
     "text": [
      "Epoch [10/100], Loss: 0.6129\n",
      "Epoch [20/100], Loss: 0.7039\n",
      "Epoch [30/100], Loss: 0.4396\n",
      "Epoch [40/100], Loss: 0.6293\n",
      "Epoch [50/100], Loss: 0.4178\n",
      "Epoch [60/100], Loss: 0.5025\n",
      "Epoch [70/100], Loss: 0.2744\n",
      "Epoch [80/100], Loss: 0.5425\n",
      "Epoch [90/100], Loss: 0.4498\n",
      "Epoch [100/100], Loss: 0.3260\n"
     ]
    }
   ],
   "source": [
    "#train the model\n",
    "for epoch in range(100):\n",
    "    for batch_X, batch_y in train_loader:\n",
    "        optimizer.zero_grad()\n",
    "        outputs = model(batch_X).squeeze()\n",
    "        loss = criterion(outputs, batch_y)\n",
    "        loss.backward()\n",
    "        optimizer.step()\n",
    "    \n",
    "    if (epoch + 1) % 10 == 0:\n",
    "        print(f'Epoch [{epoch + 1}/100], Loss: {loss.item():.4f}')"
   ]
  },
  {
   "cell_type": "code",
   "execution_count": 24,
   "id": "7a120677",
   "metadata": {},
   "outputs": [
    {
     "name": "stdout",
     "output_type": "stream",
     "text": [
      "Model saved\n"
     ]
    }
   ],
   "source": [
    "# save the model\n",
    "torch.save(model.state_dict(), 'models/titanic_model.pth')\n",
    "print(\"Model saved\")"
   ]
  },
  {
   "cell_type": "code",
   "execution_count": 26,
   "id": "66b23062",
   "metadata": {},
   "outputs": [
    {
     "name": "stdout",
     "output_type": "stream",
     "text": [
      "ONNX model exported successfully\n"
     ]
    }
   ],
   "source": [
    "import torch.onnx\n",
    "\n",
    "dummy_input = torch.randn(1, X_train.shape[1])\n",
    "\n",
    "torch.onnx.export(\n",
    "    model,                          \n",
    "    dummy_input,                    \n",
    "    \"models/model.onnx\",           \n",
    "    export_params=True,             \n",
    "    opset_version=11,          \n",
    "    input_names=['input'],    \n",
    "    output_names=['output'],   \n",
    "    dynamic_axes={                 \n",
    "        'input': {0: 'batch_size'},\n",
    "        'output': {0: 'batch_size'}\n",
    "    }\n",
    ")\n",
    "\n",
    "print(\"ONNX model exported successfully\")"
   ]
  }
 ],
 "metadata": {
  "kernelspec": {
   "display_name": "TitanicDM",
   "language": "python",
   "name": "python3"
  },
  "language_info": {
   "codemirror_mode": {
    "name": "ipython",
    "version": 3
   },
   "file_extension": ".py",
   "mimetype": "text/x-python",
   "name": "python",
   "nbconvert_exporter": "python",
   "pygments_lexer": "ipython3",
   "version": "3.11.11"
  }
 },
 "nbformat": 4,
 "nbformat_minor": 5
}
